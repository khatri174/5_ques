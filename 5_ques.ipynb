{
 "cells": [
  {
   "cell_type": "markdown",
   "id": "55cbb1b8-00fc-4203-a7a1-344aad4351d3",
   "metadata": {},
   "source": [
    "# 1. Take the input from user and find whether number is prime or not?"
   ]
  },
  {
   "cell_type": "code",
   "execution_count": 46,
   "id": "53811301-5aeb-4448-aae4-95c670c59ab7",
   "metadata": {},
   "outputs": [
    {
     "name": "stdin",
     "output_type": "stream",
     "text": [
      "enter a number : -4\n"
     ]
    },
    {
     "name": "stdout",
     "output_type": "stream",
     "text": [
      "-4 is not prime\n"
     ]
    }
   ],
   "source": [
    "def is_prime(num):\n",
    "    if num <= 1:\n",
    "        return f\"{num} is not prime\" \n",
    "    for i in range(2,num):\n",
    "        if num % i ==0:\n",
    "            return f\"{num} is not prime\"\n",
    "        \n",
    "    return f\"{num} is prime\"\n",
    "if __name__ == \"__main__\":\n",
    "    try:\n",
    "        nmbr = int(input(\"enter a number :\"))\n",
    "        print(is_prime(nmbr))\n",
    "    except Exception as e:\n",
    "        print(\"provide legal input only\")"
   ]
  },
  {
   "cell_type": "markdown",
   "id": "edf7e03f-a467-4ad7-9d8e-efe192f89865",
   "metadata": {},
   "source": [
    "# 2. Reverse the string using for loop."
   ]
  },
  {
   "cell_type": "code",
   "execution_count": 7,
   "id": "6a1e2bda-9693-4a63-85f4-b2df0ac83376",
   "metadata": {},
   "outputs": [
    {
     "name": "stdin",
     "output_type": "stream",
     "text": [
      "Enter any string : ffffjbs\n"
     ]
    },
    {
     "name": "stdout",
     "output_type": "stream",
     "text": [
      "Reverse  is sbjffff\n"
     ]
    }
   ],
   "source": [
    "def revrse_str(str):\n",
    "    new_str = \"\"\n",
    "    for i in str:\n",
    "        new_str = i + new_str\n",
    "    return new_str\n",
    "    \n",
    "if __name__ == \"__main__\":\n",
    "    try:\n",
    "        word = input(\"Enter any string :\")\n",
    "        print(f\"Reverse  is {revrse_str(word)}\")\n",
    "    except Exception as e:\n",
    "        print(\"something is wrong\")"
   ]
  },
  {
   "cell_type": "markdown",
   "id": "87dd9a00-da12-4b2f-a470-6b53decdaa22",
   "metadata": {},
   "source": [
    "# 3. Palindrome Check (String Problem)"
   ]
  },
  {
   "cell_type": "code",
   "execution_count": 48,
   "id": "f5441ecf-755e-4056-a887-386e6bcae9a5",
   "metadata": {},
   "outputs": [
    {
     "name": "stdin",
     "output_type": "stream",
     "text": [
      "Enter a string dfiuhiov\n"
     ]
    },
    {
     "name": "stdout",
     "output_type": "stream",
     "text": [
      "dfiuhiov is not a palindrome string\n"
     ]
    }
   ],
   "source": [
    "def is_palindrome(str):\n",
    "    new_str = str[::-1]\n",
    "    if str == new_str:\n",
    "        return f\"{str} is a palindrome string\"\n",
    "    else :\n",
    "        return f\"{str} is not a palindrome string\"\n",
    "if __name__ == \"__main__\":\n",
    "    try:\n",
    "        string = input(\"Enter a string\")\n",
    "        print(is_palindrome(string))\n",
    "    except Exception as e:\n",
    "        print(\"something ir wrong\")"
   ]
  },
  {
   "cell_type": "markdown",
   "id": "7c247c09-daac-49f0-92db-36ded1b9270e",
   "metadata": {},
   "source": [
    "# 4. Calculate factorial of a number"
   ]
  },
  {
   "cell_type": "code",
   "execution_count": 40,
   "id": "be627c74-ee34-40c5-ac0b-b393bd19b49c",
   "metadata": {},
   "outputs": [
    {
     "name": "stdin",
     "output_type": "stream",
     "text": [
      "enter a number : df\n"
     ]
    },
    {
     "name": "stdout",
     "output_type": "stream",
     "text": [
      "enter only valid input\n"
     ]
    }
   ],
   "source": [
    "def calculate_factorial(num):\n",
    "    fact = 1\n",
    "    if num >= 1:\n",
    "        for i in range(1,num+1):\n",
    "            fact = fact * i\n",
    "        return f\"factorial of {num} is {fact}\"\n",
    "    else:\n",
    "        return f\"enter a positive number greater than zero\"\n",
    "if __name__ == \"__main__\":\n",
    "    try :\n",
    "        number = int(input(\"enter a number :\"))\n",
    "        print(calculate_factorial(number))\n",
    "    except Exception :\n",
    "        print(\"enter only valid input\")"
   ]
  },
  {
   "cell_type": "markdown",
   "id": "a877ce5d-3937-450c-b885-06cd9570cb22",
   "metadata": {},
   "source": [
    "# 5. Find the Second Largest Element in a List using for loop"
   ]
  },
  {
   "cell_type": "code",
   "execution_count": 56,
   "id": "62396caf-7bb3-40c1-bb41-c6f4354b9a10",
   "metadata": {},
   "outputs": [
    {
     "name": "stdin",
     "output_type": "stream",
     "text": [
      "Enter the element of list seprated by space : 56 445 334 66 334 66\n"
     ]
    },
    {
     "name": "stdout",
     "output_type": "stream",
     "text": [
      "334\n"
     ]
    }
   ],
   "source": [
    "def second_largest(nmbrs):\n",
    "    for i in nmbrs:\n",
    "        largest = 0\n",
    "        scnd_larg = 0\n",
    "        for i in nmbrs:\n",
    "            if i > largest:\n",
    "                largest = i\n",
    "        while largest in nmbrs:\n",
    "            nmbrs.remove(largest)\n",
    "        if nmbrs:\n",
    "            for i in nmbrs:\n",
    "                if i > scnd_larg:\n",
    "                    scnd_larg = i\n",
    "            return scnd_larg        \n",
    "if __name__ == \"__main__\":\n",
    "    try:       \n",
    "        list1 =input(\"Enter the element of list seprated by space :\").split(\" \")\n",
    "        list1 =list(map(int,list1))\n",
    "        print(second_largest(list1))\n",
    "    except Exception as e:\n",
    "        print(\"read correctly and provide a suitable input\")"
   ]
  },
  {
   "cell_type": "code",
   "execution_count": null,
   "id": "a011f641-5398-46e4-b6d5-ec0fabd5b07b",
   "metadata": {},
   "outputs": [],
   "source": []
  }
 ],
 "metadata": {
  "kernelspec": {
   "display_name": "Python 3 (ipykernel)",
   "language": "python",
   "name": "python3"
  },
  "language_info": {
   "codemirror_mode": {
    "name": "ipython",
    "version": 3
   },
   "file_extension": ".py",
   "mimetype": "text/x-python",
   "name": "python",
   "nbconvert_exporter": "python",
   "pygments_lexer": "ipython3",
   "version": "3.12.4"
  }
 },
 "nbformat": 4,
 "nbformat_minor": 5
}
